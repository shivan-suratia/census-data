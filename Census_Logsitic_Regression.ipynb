{
  "nbformat": 4,
  "nbformat_minor": 0,
  "metadata": {
    "colab": {
      "name": "Census Data.ipynb",
      "provenance": [],
      "authorship_tag": "ABX9TyP67y4Agp3QAbcSIe8rHAAD",
      "include_colab_link": true
    },
    "kernelspec": {
      "name": "python3",
      "display_name": "Python 3"
    },
    "language_info": {
      "name": "python"
    }
  },
  "cells": [
    {
      "cell_type": "markdown",
      "metadata": {
        "id": "view-in-github",
        "colab_type": "text"
      },
      "source": [
        "<a href=\"https://colab.research.google.com/github/shivan222/census-data/blob/main/Census_Linear_Regression.ipynb\" target=\"_parent\"><img src=\"https://colab.research.google.com/assets/colab-badge.svg\" alt=\"Open In Colab\"/></a>"
      ]
    },
    {
      "cell_type": "code",
      "metadata": {
        "id": "WQQvlVKD63_G"
      },
      "source": [
        "!pip install -q sklearn"
      ],
      "execution_count": 24,
      "outputs": []
    },
    {
      "cell_type": "code",
      "metadata": {
        "id": "eKaYUY7I8Ayz"
      },
      "source": [
        "%tensorflow_version 2.x"
      ],
      "execution_count": 25,
      "outputs": []
    },
    {
      "cell_type": "code",
      "metadata": {
        "id": "qcII_xj9Ntyo"
      },
      "source": [
        "from __future__ import absolute_import, division, print_function, unicode_literals\n",
        "\n",
        "import numpy as np\n",
        "import pandas as pd\n",
        "import matplotlib.pyplot as plt\n",
        "from IPython.display import clear_output\n",
        "from six.moves import urllib\n",
        "\n",
        "import tensorflow.compat.v2.feature_column as fc\n",
        "\n",
        "import tensorflow as tf"
      ],
      "execution_count": 26,
      "outputs": []
    },
    {
      "cell_type": "code",
      "metadata": {
        "id": "z5gW9O2SUkjA"
      },
      "source": [
        "dftrain = pd.read_csv('https://raw.githubusercontent.com/shivan222/census-data/main/census_train.csv')\n",
        "dfeval = pd.read_csv('https://raw.githubusercontent.com/shivan222/census-data/main/census_eval.csv')\n",
        "y_train = dftrain.pop('over50k')\n",
        "y_eval = dfeval.pop('over50k')"
      ],
      "execution_count": 27,
      "outputs": []
    },
    {
      "cell_type": "code",
      "metadata": {
        "id": "nUgZhAu7dLIy"
      },
      "source": [
        "CATEGORICAL_COLUMNS = ['workclass', 'education', 'marital_status', 'occupation', 'relationship',\n",
        "                       'race', 'sex', 'native_country']\n",
        "NUMERIC_COLUMNS = ['age', 'education_years']\n",
        "\n",
        "feature_columns = []\n",
        "for feature_name in CATEGORICAL_COLUMNS:\n",
        "  vocabulary = dftrain[feature_name].unique()\n",
        "  feature_columns.append(tf.feature_column.categorical_column_with_vocabulary_list(feature_name, vocabulary))\n",
        "\n",
        "for feature_name in NUMERIC_COLUMNS:\n",
        "  feature_columns.append(tf.feature_column.numeric_column(feature_name, dtype=tf.float32))"
      ],
      "execution_count": 28,
      "outputs": []
    },
    {
      "cell_type": "code",
      "metadata": {
        "id": "_nIsRQwUdNEl"
      },
      "source": [
        "def make_input_fn(data_df, label_df, num_epochs=10, shuffle=True, batch_size=32):\n",
        "  def input_function():\n",
        "    ds = tf.data.Dataset.from_tensor_slices((dict(data_df), label_df))\n",
        "    if shuffle:\n",
        "      ds = ds.shuffle(1000)\n",
        "    ds = ds.batch(batch_size).repeat(num_epochs)\n",
        "    return ds\n",
        "  return input_function\n",
        "\n",
        "train_input_fn = make_input_fn(dftrain, y_train)\n",
        "eval_input_fn = make_input_fn(dfeval, y_eval, num_epochs=1, shuffle=False)"
      ],
      "execution_count": 29,
      "outputs": []
    },
    {
      "cell_type": "code",
      "metadata": {
        "colab": {
          "base_uri": "https://localhost:8080/"
        },
        "id": "Saj-m0mNdSHN",
        "outputId": "19f87943-224b-465f-e5df-830603724121"
      },
      "source": [
        "linear_est = tf.estimator.LinearClassifier(feature_columns=feature_columns)"
      ],
      "execution_count": 30,
      "outputs": [
        {
          "output_type": "stream",
          "text": [
            "INFO:tensorflow:Using default config.\n",
            "WARNING:tensorflow:Using temporary folder as model directory: /tmp/tmp8bi3r3d6\n",
            "INFO:tensorflow:Using config: {'_model_dir': '/tmp/tmp8bi3r3d6', '_tf_random_seed': None, '_save_summary_steps': 100, '_save_checkpoints_steps': None, '_save_checkpoints_secs': 600, '_session_config': allow_soft_placement: true\n",
            "graph_options {\n",
            "  rewrite_options {\n",
            "    meta_optimizer_iterations: ONE\n",
            "  }\n",
            "}\n",
            ", '_keep_checkpoint_max': 5, '_keep_checkpoint_every_n_hours': 10000, '_log_step_count_steps': 100, '_train_distribute': None, '_device_fn': None, '_protocol': None, '_eval_distribute': None, '_experimental_distribute': None, '_experimental_max_worker_delay_secs': None, '_session_creation_timeout_secs': 7200, '_checkpoint_save_graph_def': True, '_service': None, '_cluster_spec': ClusterSpec({}), '_task_type': 'worker', '_task_id': 0, '_global_id_in_cluster': 0, '_master': '', '_evaluation_master': '', '_is_chief': True, '_num_ps_replicas': 0, '_num_worker_replicas': 1}\n"
          ],
          "name": "stdout"
        }
      ]
    },
    {
      "cell_type": "code",
      "metadata": {
        "colab": {
          "base_uri": "https://localhost:8080/"
        },
        "id": "GQiXYoqQdiAW",
        "outputId": "401f032a-9cf2-4fc3-9935-e63250135f84"
      },
      "source": [
        "linear_est.train(train_input_fn)"
      ],
      "execution_count": 31,
      "outputs": [
        {
          "output_type": "stream",
          "text": [
            "INFO:tensorflow:Calling model_fn.\n"
          ],
          "name": "stdout"
        },
        {
          "output_type": "stream",
          "text": [
            "/usr/local/lib/python3.7/dist-packages/tensorflow/python/keras/engine/base_layer_v1.py:1700: UserWarning: `layer.add_variable` is deprecated and will be removed in a future version. Please use `layer.add_weight` method instead.\n",
            "  warnings.warn('`layer.add_variable` is deprecated and '\n"
          ],
          "name": "stderr"
        },
        {
          "output_type": "stream",
          "text": [
            "INFO:tensorflow:Done calling model_fn.\n",
            "INFO:tensorflow:Create CheckpointSaverHook.\n",
            "INFO:tensorflow:Graph was finalized.\n",
            "INFO:tensorflow:Running local_init_op.\n",
            "INFO:tensorflow:Done running local_init_op.\n",
            "INFO:tensorflow:Calling checkpoint listeners before saving checkpoint 0...\n",
            "INFO:tensorflow:Saving checkpoints for 0 into /tmp/tmp8bi3r3d6/model.ckpt.\n",
            "INFO:tensorflow:Calling checkpoint listeners after saving checkpoint 0...\n",
            "INFO:tensorflow:loss = 0.6931472, step = 0\n",
            "INFO:tensorflow:global_step/sec: 255.894\n",
            "INFO:tensorflow:loss = 0.30316022, step = 100 (0.392 sec)\n",
            "INFO:tensorflow:global_step/sec: 582.157\n",
            "INFO:tensorflow:loss = 0.3517918, step = 200 (0.175 sec)\n",
            "INFO:tensorflow:Calling checkpoint listeners before saving checkpoint 220...\n",
            "INFO:tensorflow:Saving checkpoints for 220 into /tmp/tmp8bi3r3d6/model.ckpt.\n",
            "INFO:tensorflow:Calling checkpoint listeners after saving checkpoint 220...\n",
            "INFO:tensorflow:Loss for final step: 0.7636061.\n"
          ],
          "name": "stdout"
        },
        {
          "output_type": "execute_result",
          "data": {
            "text/plain": [
              "<tensorflow_estimator.python.estimator.canned.linear.LinearClassifierV2 at 0x7f04e25f1fd0>"
            ]
          },
          "metadata": {
            "tags": []
          },
          "execution_count": 31
        }
      ]
    },
    {
      "cell_type": "code",
      "metadata": {
        "colab": {
          "base_uri": "https://localhost:8080/"
        },
        "id": "1E599NDKd5z0",
        "outputId": "f16b2c92-ac1e-4dc5-c11b-1680fa1d4b9a"
      },
      "source": [
        "result = linear_est.evaluate(eval_input_fn)"
      ],
      "execution_count": 32,
      "outputs": [
        {
          "output_type": "stream",
          "text": [
            "INFO:tensorflow:Calling model_fn.\n"
          ],
          "name": "stdout"
        },
        {
          "output_type": "stream",
          "text": [
            "/usr/local/lib/python3.7/dist-packages/tensorflow/python/keras/engine/base_layer_v1.py:1700: UserWarning: `layer.add_variable` is deprecated and will be removed in a future version. Please use `layer.add_weight` method instead.\n",
            "  warnings.warn('`layer.add_variable` is deprecated and '\n"
          ],
          "name": "stderr"
        },
        {
          "output_type": "stream",
          "text": [
            "INFO:tensorflow:Done calling model_fn.\n",
            "INFO:tensorflow:Starting evaluation at 2021-07-15T15:47:08\n",
            "INFO:tensorflow:Graph was finalized.\n",
            "INFO:tensorflow:Restoring parameters from /tmp/tmp8bi3r3d6/model.ckpt-220\n",
            "INFO:tensorflow:Running local_init_op.\n",
            "INFO:tensorflow:Done running local_init_op.\n",
            "INFO:tensorflow:Inference Time : 0.83572s\n",
            "INFO:tensorflow:Finished evaluation at 2021-07-15-15:47:09\n",
            "INFO:tensorflow:Saving dict for global step 220: accuracy = 0.8109756, accuracy_baseline = 0.7743902, auc = 0.82634604, auc_precision_recall = 0.5208013, average_loss = 0.4216292, global_step = 220, label/mean = 0.22560975, loss = 0.4328747, precision = 0.6363636, prediction/mean = 0.18268928, recall = 0.3783784\n",
            "INFO:tensorflow:Saving 'checkpoint_path' summary for global step 220: /tmp/tmp8bi3r3d6/model.ckpt-220\n"
          ],
          "name": "stdout"
        }
      ]
    },
    {
      "cell_type": "code",
      "metadata": {
        "colab": {
          "base_uri": "https://localhost:8080/"
        },
        "id": "BZD17A2CeAk6",
        "outputId": "d920b9e1-e3d5-4a0a-9388-34650acd4d51"
      },
      "source": [
        "clear_output()\n",
        "print(result)"
      ],
      "execution_count": 33,
      "outputs": [
        {
          "output_type": "stream",
          "text": [
            "{'accuracy': 0.8109756, 'accuracy_baseline': 0.7743902, 'auc': 0.82634604, 'auc_precision_recall': 0.5208013, 'average_loss': 0.4216292, 'label/mean': 0.22560975, 'loss': 0.4328747, 'precision': 0.6363636, 'prediction/mean': 0.18268928, 'recall': 0.3783784, 'global_step': 220}\n"
          ],
          "name": "stdout"
        }
      ]
    },
    {
      "cell_type": "code",
      "metadata": {
        "colab": {
          "base_uri": "https://localhost:8080/"
        },
        "id": "UAjivRZomXPW",
        "outputId": "6ffbaafc-6d0d-4940-b23b-4d49fabf07de"
      },
      "source": [
        "result = list(linear_est.predict(eval_input_fn))\n",
        "\n",
        "for i in range(60, 65):\n",
        "  if y_eval[i] == 0:\n",
        "    Over50k = \"no\"\n",
        "  else:\n",
        "    Over50k = \"yes\"\n",
        "\n",
        "  print(\"\\nperson #\" + str(i))\n",
        "  print(dfeval.loc[i])\n",
        "  print(\"\\nProbability of salary being Over $50k: \")\n",
        "  print(result[i]['probabilities'][1])\n",
        "  print(\"\\nIs their salary actually over $50k? \" + Over50k)\n",
        "  print(\"\\n~~~~~~~~~~~~~~~\")\n"
      ],
      "execution_count": 43,
      "outputs": [
        {
          "output_type": "stream",
          "text": [
            "INFO:tensorflow:Calling model_fn.\n"
          ],
          "name": "stdout"
        },
        {
          "output_type": "stream",
          "text": [
            "/usr/local/lib/python3.7/dist-packages/tensorflow/python/keras/engine/base_layer_v1.py:1700: UserWarning: `layer.add_variable` is deprecated and will be removed in a future version. Please use `layer.add_weight` method instead.\n",
            "  warnings.warn('`layer.add_variable` is deprecated and '\n"
          ],
          "name": "stderr"
        },
        {
          "output_type": "stream",
          "text": [
            "INFO:tensorflow:Done calling model_fn.\n",
            "INFO:tensorflow:Graph was finalized.\n",
            "INFO:tensorflow:Restoring parameters from /tmp/tmp8bi3r3d6/model.ckpt-220\n",
            "INFO:tensorflow:Running local_init_op.\n",
            "INFO:tensorflow:Done running local_init_op.\n",
            "\n",
            "person #60\n",
            "age                            36\n",
            "workclass                 Private\n",
            "education            Some-college\n",
            "education_years                10\n",
            "marital_status      Never-married\n",
            "occupation           White-Collar\n",
            "relationship        Not-in-family\n",
            "race                        Black\n",
            "sex                        Female\n",
            "hours_per_week                 36\n",
            "native_country      United-States\n",
            "Name: 60, dtype: object\n",
            "\n",
            "Probability of salary being Over $50k: \n",
            "0.032599315\n",
            "\n",
            "Is their salary actually over $50k? no\n",
            "\n",
            "~~~~~~~~~~~~~~~\n",
            "\n",
            "person #61\n",
            "age                                 43\n",
            "workclass                    State-gov\n",
            "education                    Bachelors\n",
            "education_years                     13\n",
            "marital_status      Married-civ-spouse\n",
            "occupation                White-Collar\n",
            "relationship                   Husband\n",
            "race                             White\n",
            "sex                               Male\n",
            "hours_per_week                      50\n",
            "native_country           United-States\n",
            "Name: 61, dtype: object\n",
            "\n",
            "Probability of salary being Over $50k: \n",
            "0.7118424\n",
            "\n",
            "Is their salary actually over $50k? no\n",
            "\n",
            "~~~~~~~~~~~~~~~\n",
            "\n",
            "person #62\n",
            "age                            56\n",
            "workclass                 Private\n",
            "education                 HS-grad\n",
            "education_years                 9\n",
            "marital_status            Widowed\n",
            "occupation            Blue-Collar\n",
            "relationship            Unmarried\n",
            "race                        Black\n",
            "sex                        Female\n",
            "hours_per_week                 20\n",
            "native_country      United-States\n",
            "Name: 62, dtype: object\n",
            "\n",
            "Probability of salary being Over $50k: \n",
            "0.019580888\n",
            "\n",
            "Is their salary actually over $50k? no\n",
            "\n",
            "~~~~~~~~~~~~~~~\n",
            "\n",
            "person #63\n",
            "age                                 42\n",
            "workclass                      Private\n",
            "education                    Bachelors\n",
            "education_years                     13\n",
            "marital_status      Married-civ-spouse\n",
            "occupation                White-Collar\n",
            "relationship                   Husband\n",
            "race                             White\n",
            "sex                               Male\n",
            "hours_per_week                      40\n",
            "native_country           United-States\n",
            "Name: 63, dtype: object\n",
            "\n",
            "Probability of salary being Over $50k: \n",
            "0.646454\n",
            "\n",
            "Is their salary actually over $50k? yes\n",
            "\n",
            "~~~~~~~~~~~~~~~\n",
            "\n",
            "person #64\n",
            "age                             19\n",
            "workclass                  Private\n",
            "education             Some-college\n",
            "education_years                 10\n",
            "marital_status       Never-married\n",
            "occupation             Blue-Collar\n",
            "relationship        Other-relative\n",
            "race                         White\n",
            "sex                         Female\n",
            "hours_per_week                  25\n",
            "native_country       United-States\n",
            "Name: 64, dtype: object\n",
            "\n",
            "Probability of salary being Over $50k: \n",
            "0.018507503\n",
            "\n",
            "Is their salary actually over $50k? no\n",
            "\n",
            "~~~~~~~~~~~~~~~\n"
          ],
          "name": "stdout"
        }
      ]
    }
  ]
}
