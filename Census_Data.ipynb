{
  "nbformat": 4,
  "nbformat_minor": 0,
  "metadata": {
    "colab": {
      "name": "Census Data.ipynb",
      "provenance": [],
      "authorship_tag": "ABX9TyMP1rKp9bf6Kj4bowjp31nj",
      "include_colab_link": true
    },
    "kernelspec": {
      "name": "python3",
      "display_name": "Python 3"
    },
    "language_info": {
      "name": "python"
    }
  },
  "cells": [
    {
      "cell_type": "markdown",
      "metadata": {
        "id": "view-in-github",
        "colab_type": "text"
      },
      "source": [
        "<a href=\"https://colab.research.google.com/github/shivan222/census-data/blob/main/Census_Data.ipynb\" target=\"_parent\"><img src=\"https://colab.research.google.com/assets/colab-badge.svg\" alt=\"Open In Colab\"/></a>"
      ]
    },
    {
      "cell_type": "code",
      "metadata": {
        "id": "WQQvlVKD63_G"
      },
      "source": [
        "!pip install -q sklearn"
      ],
      "execution_count": 16,
      "outputs": []
    },
    {
      "cell_type": "code",
      "metadata": {
        "id": "eKaYUY7I8Ayz"
      },
      "source": [
        "%tensorflow_version 2.x"
      ],
      "execution_count": 18,
      "outputs": []
    },
    {
      "cell_type": "code",
      "metadata": {
        "id": "qcII_xj9Ntyo"
      },
      "source": [
        "from __future__ import absolute_import, division, print_function, unicode_literals\n",
        "\n",
        "import numpy as np\n",
        "import pandas as pd\n",
        "import matplotlib.pyplot as plt\n",
        "from IPython.display import clear_output\n",
        "from six.moves import urllib\n",
        "\n",
        "import tensorflow.compat.v2.feature_column as fc\n",
        "\n",
        "import tensorflow as tf"
      ],
      "execution_count": 19,
      "outputs": []
    },
    {
      "cell_type": "code",
      "metadata": {
        "id": "z5gW9O2SUkjA"
      },
      "source": [
        "dftrain = pd.read_csv('https://raw.githubusercontent.com/shivan222/census-data/main/census_train.csv')\n",
        "dfeval = pd.read_csv('https://raw.githubusercontent.com/shivan222/census-data/main/census_eval.csv')\n",
        "y_train = dftrain.pop('over50k')\n",
        "y_eval = dfeval.pop('over50k')"
      ],
      "execution_count": 34,
      "outputs": []
    },
    {
      "cell_type": "code",
      "metadata": {
        "id": "nUgZhAu7dLIy"
      },
      "source": [
        "CATEGORICAL_COLUMNS = ['workclass', 'education', 'marital_status', 'occupation', 'relationship',\n",
        "                       'race', 'sex', 'native_country']\n",
        "NUMERIC_COLUMNS = ['age', 'education_years']\n",
        "\n",
        "feature_columns = []\n",
        "for feature_name in CATEGORICAL_COLUMNS:\n",
        "  vocabulary = dftrain[feature_name].unique()\n",
        "  feature_columns.append(tf.feature_column.categorical_column_with_vocabulary_list(feature_name, vocabulary))\n",
        "\n",
        "for feature_name in NUMERIC_COLUMNS:\n",
        "  feature_columns.append(tf.feature_column.numeric_column(feature_name, dtype=tf.float32))"
      ],
      "execution_count": 54,
      "outputs": []
    },
    {
      "cell_type": "code",
      "metadata": {
        "id": "_nIsRQwUdNEl"
      },
      "source": [
        "def make_input_fn(data_df, label_df, num_epochs=10, shuffle=True, batch_size=32):\n",
        "  def input_function():\n",
        "    ds = tf.data.Dataset.from_tensor_slices((dict(data_df), label_df))\n",
        "    if shuffle:\n",
        "      ds = ds.shuffle(1000)\n",
        "    ds = ds.batch(batch_size).repeat(num_epochs)\n",
        "    return ds\n",
        "  return input_function\n",
        "\n",
        "train_input_fn = make_input_fn(dftrain, y_train)\n",
        "eval_input_fn = make_input_fn(dfeval, y_eval, num_epochs=1, shuffle=False)"
      ],
      "execution_count": 55,
      "outputs": []
    },
    {
      "cell_type": "code",
      "metadata": {
        "colab": {
          "base_uri": "https://localhost:8080/"
        },
        "id": "Saj-m0mNdSHN",
        "outputId": "b3ae28f4-548a-4414-b60d-00c4a0207efa"
      },
      "source": [
        "linear_est = tf.estimator.LinearClassifier(feature_columns=feature_columns)"
      ],
      "execution_count": 56,
      "outputs": [
        {
          "output_type": "stream",
          "text": [
            "INFO:tensorflow:Using default config.\n",
            "WARNING:tensorflow:Using temporary folder as model directory: /tmp/tmpq260bsnd\n",
            "INFO:tensorflow:Using config: {'_model_dir': '/tmp/tmpq260bsnd', '_tf_random_seed': None, '_save_summary_steps': 100, '_save_checkpoints_steps': None, '_save_checkpoints_secs': 600, '_session_config': allow_soft_placement: true\n",
            "graph_options {\n",
            "  rewrite_options {\n",
            "    meta_optimizer_iterations: ONE\n",
            "  }\n",
            "}\n",
            ", '_keep_checkpoint_max': 5, '_keep_checkpoint_every_n_hours': 10000, '_log_step_count_steps': 100, '_train_distribute': None, '_device_fn': None, '_protocol': None, '_eval_distribute': None, '_experimental_distribute': None, '_experimental_max_worker_delay_secs': None, '_session_creation_timeout_secs': 7200, '_checkpoint_save_graph_def': True, '_service': None, '_cluster_spec': ClusterSpec({}), '_task_type': 'worker', '_task_id': 0, '_global_id_in_cluster': 0, '_master': '', '_evaluation_master': '', '_is_chief': True, '_num_ps_replicas': 0, '_num_worker_replicas': 1}\n"
          ],
          "name": "stdout"
        }
      ]
    },
    {
      "cell_type": "code",
      "metadata": {
        "colab": {
          "base_uri": "https://localhost:8080/"
        },
        "id": "GQiXYoqQdiAW",
        "outputId": "664d7076-f302-45d4-ae09-fc93566aefbb"
      },
      "source": [
        "linear_est.train(train_input_fn)"
      ],
      "execution_count": 57,
      "outputs": [
        {
          "output_type": "stream",
          "text": [
            "INFO:tensorflow:Calling model_fn.\n"
          ],
          "name": "stdout"
        },
        {
          "output_type": "stream",
          "text": [
            "/usr/local/lib/python3.7/dist-packages/tensorflow/python/keras/engine/base_layer_v1.py:1700: UserWarning: `layer.add_variable` is deprecated and will be removed in a future version. Please use `layer.add_weight` method instead.\n",
            "  warnings.warn('`layer.add_variable` is deprecated and '\n"
          ],
          "name": "stderr"
        },
        {
          "output_type": "stream",
          "text": [
            "WARNING:tensorflow:From /usr/local/lib/python3.7/dist-packages/tensorflow/python/keras/optimizer_v2/ftrl.py:149: calling Constant.__init__ (from tensorflow.python.ops.init_ops) with dtype is deprecated and will be removed in a future version.\n",
            "Instructions for updating:\n",
            "Call initializer instance with the dtype argument instead of passing it to the constructor\n",
            "INFO:tensorflow:Done calling model_fn.\n",
            "INFO:tensorflow:Create CheckpointSaverHook.\n",
            "INFO:tensorflow:Graph was finalized.\n",
            "INFO:tensorflow:Running local_init_op.\n",
            "INFO:tensorflow:Done running local_init_op.\n",
            "INFO:tensorflow:Calling checkpoint listeners before saving checkpoint 0...\n",
            "INFO:tensorflow:Saving checkpoints for 0 into /tmp/tmpq260bsnd/model.ckpt.\n",
            "INFO:tensorflow:Calling checkpoint listeners after saving checkpoint 0...\n",
            "INFO:tensorflow:loss = 0.6931472, step = 0\n",
            "INFO:tensorflow:global_step/sec: 260.077\n",
            "INFO:tensorflow:loss = 0.28929695, step = 100 (0.391 sec)\n",
            "INFO:tensorflow:global_step/sec: 598.689\n",
            "INFO:tensorflow:loss = 0.18202743, step = 200 (0.163 sec)\n",
            "INFO:tensorflow:Calling checkpoint listeners before saving checkpoint 220...\n",
            "INFO:tensorflow:Saving checkpoints for 220 into /tmp/tmpq260bsnd/model.ckpt.\n",
            "INFO:tensorflow:Calling checkpoint listeners after saving checkpoint 220...\n",
            "INFO:tensorflow:Loss for final step: 0.43316388.\n"
          ],
          "name": "stdout"
        },
        {
          "output_type": "execute_result",
          "data": {
            "text/plain": [
              "<tensorflow_estimator.python.estimator.canned.linear.LinearClassifierV2 at 0x7f5df38e3d10>"
            ]
          },
          "metadata": {
            "tags": []
          },
          "execution_count": 57
        }
      ]
    },
    {
      "cell_type": "code",
      "metadata": {
        "colab": {
          "base_uri": "https://localhost:8080/"
        },
        "id": "1E599NDKd5z0",
        "outputId": "25687e5f-8e82-4981-82f0-494b8c574103"
      },
      "source": [
        "result = linear_est.evaluate(eval_input_fn)"
      ],
      "execution_count": 58,
      "outputs": [
        {
          "output_type": "stream",
          "text": [
            "INFO:tensorflow:Calling model_fn.\n"
          ],
          "name": "stdout"
        },
        {
          "output_type": "stream",
          "text": [
            "/usr/local/lib/python3.7/dist-packages/tensorflow/python/keras/engine/base_layer_v1.py:1700: UserWarning: `layer.add_variable` is deprecated and will be removed in a future version. Please use `layer.add_weight` method instead.\n",
            "  warnings.warn('`layer.add_variable` is deprecated and '\n"
          ],
          "name": "stderr"
        },
        {
          "output_type": "stream",
          "text": [
            "INFO:tensorflow:Done calling model_fn.\n",
            "INFO:tensorflow:Starting evaluation at 2021-07-15T04:41:12\n",
            "INFO:tensorflow:Graph was finalized.\n",
            "INFO:tensorflow:Restoring parameters from /tmp/tmpq260bsnd/model.ckpt-220\n",
            "INFO:tensorflow:Running local_init_op.\n",
            "INFO:tensorflow:Done running local_init_op.\n",
            "INFO:tensorflow:Inference Time : 0.72070s\n",
            "INFO:tensorflow:Finished evaluation at 2021-07-15-04:41:13\n",
            "INFO:tensorflow:Saving dict for global step 220: accuracy = 0.80487806, accuracy_baseline = 0.7743902, auc = 0.81762075, auc_precision_recall = 0.50773424, average_loss = 0.455152, global_step = 220, label/mean = 0.22560975, loss = 0.47144058, precision = 0.6315789, prediction/mean = 0.14613605, recall = 0.3243243\n",
            "INFO:tensorflow:Saving 'checkpoint_path' summary for global step 220: /tmp/tmpq260bsnd/model.ckpt-220\n"
          ],
          "name": "stdout"
        }
      ]
    },
    {
      "cell_type": "code",
      "metadata": {
        "colab": {
          "base_uri": "https://localhost:8080/"
        },
        "id": "BZD17A2CeAk6",
        "outputId": "18db5813-2453-46ba-eb3e-d44a79a5c0f0"
      },
      "source": [
        "clear_output()\n",
        "print(result)"
      ],
      "execution_count": 59,
      "outputs": [
        {
          "output_type": "stream",
          "text": [
            "{'accuracy': 0.80487806, 'accuracy_baseline': 0.7743902, 'auc': 0.81762075, 'auc_precision_recall': 0.50773424, 'average_loss': 0.455152, 'label/mean': 0.22560975, 'loss': 0.47144058, 'precision': 0.6315789, 'prediction/mean': 0.14613605, 'recall': 0.3243243, 'global_step': 220}\n"
          ],
          "name": "stdout"
        }
      ]
    },
    {
      "cell_type": "code",
      "metadata": {
        "colab": {
          "base_uri": "https://localhost:8080/"
        },
        "id": "UAjivRZomXPW",
        "outputId": "306dbd2f-7cad-432d-898b-b0461a7c6634"
      },
      "source": [
        "result = list(linear_est.predict(eval_input_fn))\n",
        "\n",
        "for i in range(50, 65):\n",
        "  if y_eval[i] == 0:\n",
        "    Over50k = \"no\"\n",
        "  else:\n",
        "    Over50k = \"yes\"\n",
        "\n",
        "  print(dfeval.loc[i])\n",
        "  print()\n",
        "  print(\"Over $50k? \" + Over50k)\n",
        "  print(\"Probability of being Over $50k: \")\n",
        "  print(result[i]['probabilities'][1])\n",
        "  print(\"~~~~~~~~~~~~~~~\")"
      ],
      "execution_count": 90,
      "outputs": [
        {
          "output_type": "stream",
          "text": [
            "INFO:tensorflow:Calling model_fn.\n"
          ],
          "name": "stdout"
        },
        {
          "output_type": "stream",
          "text": [
            "/usr/local/lib/python3.7/dist-packages/tensorflow/python/keras/engine/base_layer_v1.py:1700: UserWarning: `layer.add_variable` is deprecated and will be removed in a future version. Please use `layer.add_weight` method instead.\n",
            "  warnings.warn('`layer.add_variable` is deprecated and '\n"
          ],
          "name": "stderr"
        },
        {
          "output_type": "stream",
          "text": [
            "INFO:tensorflow:Done calling model_fn.\n",
            "INFO:tensorflow:Graph was finalized.\n",
            "INFO:tensorflow:Restoring parameters from /tmp/tmpq260bsnd/model.ckpt-220\n",
            "INFO:tensorflow:Running local_init_op.\n",
            "INFO:tensorflow:Done running local_init_op.\n",
            "age                                 44\n",
            "workclass                      Private\n",
            "education                      HS-grad\n",
            "education_years                      9\n",
            "marital_status      Married-civ-spouse\n",
            "occupation                White-Collar\n",
            "relationship                      Wife\n",
            "race                             White\n",
            "sex                             Female\n",
            "hours_per_week                      40\n",
            "native_country           United-States\n",
            "Name: 50, dtype: object\n",
            "\n",
            "Over $50k? no\n",
            "Probability of being Over $50k: \n",
            "0.20733725\n",
            "~~~~~~~~~~~~~~~\n",
            "age                            20\n",
            "workclass                 Private\n",
            "education            Some-college\n",
            "education_years                10\n",
            "marital_status      Never-married\n",
            "occupation            Blue-Collar\n",
            "relationship        Not-in-family\n",
            "race                        White\n",
            "sex                        Female\n",
            "hours_per_week                 20\n",
            "native_country      United-States\n",
            "Name: 51, dtype: object\n",
            "\n",
            "Over $50k? no\n",
            "Probability of being Over $50k: \n",
            "0.00974702\n",
            "~~~~~~~~~~~~~~~\n",
            "age                                 31\n",
            "workclass                      Private\n",
            "education                      HS-grad\n",
            "education_years                      9\n",
            "marital_status      Married-civ-spouse\n",
            "occupation                 Blue-Collar\n",
            "relationship                   Husband\n",
            "race                             White\n",
            "sex                               Male\n",
            "hours_per_week                      40\n",
            "native_country                  Mexico\n",
            "Name: 52, dtype: object\n",
            "\n",
            "Over $50k? no\n",
            "Probability of being Over $50k: \n",
            "0.13022356\n",
            "~~~~~~~~~~~~~~~\n",
            "age                                 65\n",
            "workclass             Self-emp-not-inc\n",
            "education                      Some-HS\n",
            "education_years                      7\n",
            "marital_status      Married-civ-spouse\n",
            "occupation                White-Collar\n",
            "relationship                   Husband\n",
            "race                             White\n",
            "sex                               Male\n",
            "hours_per_week                      59\n",
            "native_country                       ?\n",
            "Name: 53, dtype: object\n",
            "\n",
            "Over $50k? yes\n",
            "Probability of being Over $50k: \n",
            "0.24833164\n",
            "~~~~~~~~~~~~~~~\n",
            "age                            23\n",
            "workclass                 Private\n",
            "education            Some-college\n",
            "education_years                10\n",
            "marital_status      Never-married\n",
            "occupation            Blue-Collar\n",
            "relationship        Not-in-family\n",
            "race                        White\n",
            "sex                        Female\n",
            "hours_per_week                 24\n",
            "native_country      United-States\n",
            "Name: 54, dtype: object\n",
            "\n",
            "Over $50k? no\n",
            "Probability of being Over $50k: \n",
            "0.009511675\n",
            "~~~~~~~~~~~~~~~\n",
            "age                                 55\n",
            "workclass                      Private\n",
            "education                 Some-college\n",
            "education_years                     10\n",
            "marital_status                Divorced\n",
            "occupation                White-Collar\n",
            "relationship             Not-in-family\n",
            "race                Asian-Pac-Islander\n",
            "sex                             Female\n",
            "hours_per_week                      40\n",
            "native_country           United-States\n",
            "Name: 55, dtype: object\n",
            "\n",
            "Over $50k? no\n",
            "Probability of being Over $50k: \n",
            "0.08013097\n",
            "~~~~~~~~~~~~~~~\n",
            "age                                 26\n",
            "workclass                      Private\n",
            "education                    Assoc-voc\n",
            "education_years                     11\n",
            "marital_status      Married-civ-spouse\n",
            "occupation                White-Collar\n",
            "relationship                   Husband\n",
            "race                             White\n",
            "sex                               Male\n",
            "hours_per_week                      45\n",
            "native_country           United-States\n",
            "Name: 56, dtype: object\n",
            "\n",
            "Over $50k? no\n",
            "Probability of being Over $50k: \n",
            "0.5670293\n",
            "~~~~~~~~~~~~~~~\n",
            "age                            25\n",
            "workclass                 Private\n",
            "education               Assoc-voc\n",
            "education_years                11\n",
            "marital_status      Never-married\n",
            "occupation            Blue-Collar\n",
            "relationship            Own-child\n",
            "race                        White\n",
            "sex                        Female\n",
            "hours_per_week                 15\n",
            "native_country      United-States\n",
            "Name: 57, dtype: object\n",
            "\n",
            "Over $50k? no\n",
            "Probability of being Over $50k: \n",
            "0.01205671\n",
            "~~~~~~~~~~~~~~~\n",
            "age                                 45\n",
            "workclass                            ?\n",
            "education                 Some-college\n",
            "education_years                     10\n",
            "marital_status      Married-civ-spouse\n",
            "occupation                           ?\n",
            "relationship                      Wife\n",
            "race                             Black\n",
            "sex                             Female\n",
            "hours_per_week                      40\n",
            "native_country           United-States\n",
            "Name: 58, dtype: object\n",
            "\n",
            "Over $50k? no\n",
            "Probability of being Over $50k: \n",
            "0.17517681\n",
            "~~~~~~~~~~~~~~~\n",
            "age                                 35\n",
            "workclass                      Private\n",
            "education                 Some-college\n",
            "education_years                     10\n",
            "marital_status      Married-civ-spouse\n",
            "occupation                 Blue-Collar\n",
            "relationship                   Husband\n",
            "race                             White\n",
            "sex                               Male\n",
            "hours_per_week                      40\n",
            "native_country           United-States\n",
            "Name: 59, dtype: object\n",
            "\n",
            "Over $50k? no\n",
            "Probability of being Over $50k: \n",
            "0.1668329\n",
            "~~~~~~~~~~~~~~~\n",
            "age                            36\n",
            "workclass                 Private\n",
            "education            Some-college\n",
            "education_years                10\n",
            "marital_status      Never-married\n",
            "occupation           White-Collar\n",
            "relationship        Not-in-family\n",
            "race                        Black\n",
            "sex                        Female\n",
            "hours_per_week                 36\n",
            "native_country      United-States\n",
            "Name: 60, dtype: object\n",
            "\n",
            "Over $50k? no\n",
            "Probability of being Over $50k: \n",
            "0.024332352\n",
            "~~~~~~~~~~~~~~~\n",
            "age                                 43\n",
            "workclass                    State-gov\n",
            "education                    Bachelors\n",
            "education_years                     13\n",
            "marital_status      Married-civ-spouse\n",
            "occupation                White-Collar\n",
            "relationship                   Husband\n",
            "race                             White\n",
            "sex                               Male\n",
            "hours_per_week                      50\n",
            "native_country           United-States\n",
            "Name: 61, dtype: object\n",
            "\n",
            "Over $50k? no\n",
            "Probability of being Over $50k: \n",
            "0.65760523\n",
            "~~~~~~~~~~~~~~~\n",
            "age                            56\n",
            "workclass                 Private\n",
            "education                 HS-grad\n",
            "education_years                 9\n",
            "marital_status            Widowed\n",
            "occupation            Blue-Collar\n",
            "relationship            Unmarried\n",
            "race                        Black\n",
            "sex                        Female\n",
            "hours_per_week                 20\n",
            "native_country      United-States\n",
            "Name: 62, dtype: object\n",
            "\n",
            "Over $50k? no\n",
            "Probability of being Over $50k: \n",
            "0.011970553\n",
            "~~~~~~~~~~~~~~~\n",
            "age                                 42\n",
            "workclass                      Private\n",
            "education                    Bachelors\n",
            "education_years                     13\n",
            "marital_status      Married-civ-spouse\n",
            "occupation                White-Collar\n",
            "relationship                   Husband\n",
            "race                             White\n",
            "sex                               Male\n",
            "hours_per_week                      40\n",
            "native_country           United-States\n",
            "Name: 63, dtype: object\n",
            "\n",
            "Over $50k? yes\n",
            "Probability of being Over $50k: \n",
            "0.55826366\n",
            "~~~~~~~~~~~~~~~\n",
            "age                             19\n",
            "workclass                  Private\n",
            "education             Some-college\n",
            "education_years                 10\n",
            "marital_status       Never-married\n",
            "occupation             Blue-Collar\n",
            "relationship        Other-relative\n",
            "race                         White\n",
            "sex                         Female\n",
            "hours_per_week                  25\n",
            "native_country       United-States\n",
            "Name: 64, dtype: object\n",
            "\n",
            "Over $50k? no\n",
            "Probability of being Over $50k: \n",
            "0.014026188\n",
            "~~~~~~~~~~~~~~~\n"
          ],
          "name": "stdout"
        }
      ]
    }
  ]
}